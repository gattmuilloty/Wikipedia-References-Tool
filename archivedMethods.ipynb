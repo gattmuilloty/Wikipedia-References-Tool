{
 "cells": [
  {
   "cell_type": "markdown",
   "metadata": {},
   "source": [
    "### Phase IA: Wikipedia API"
   ]
  },
  {
   "cell_type": "markdown",
   "metadata": {},
   "source": [
    "#### API (Older implementation)"
   ]
  },
  {
   "cell_type": "code",
   "execution_count": 2,
   "metadata": {},
   "outputs": [],
   "source": [
    "# Library requirements for this section\n",
    "import requests"
   ]
  },
  {
   "cell_type": "code",
   "execution_count": 3,
   "metadata": {},
   "outputs": [],
   "source": [
    "url = \"https://en.wikipedia.org/w/api.php\" # API endpoint\n",
    "\n",
    "params = {\n",
    "    \"action\": \"parse\",\n",
    "    \"page\": \"Desk\",    # Page name\n",
    "    \"prop\": \"externallinks\",    # Get external links from the page\n",
    "    \"format\": \"json\"            # Output to JSON format\n",
    "}\n",
    "\n",
    "headers = { \"User-Agent\": \"DASC 690 (mattguilloty@gmail.com)\" } # Set User-Agent"
   ]
  },
  {
   "cell_type": "code",
   "execution_count": 4,
   "metadata": {},
   "outputs": [],
   "source": [
    "content = requests.get(url, headers = headers, params=params).json() # Make request for external links"
   ]
  },
  {
   "cell_type": "code",
   "execution_count": 5,
   "metadata": {},
   "outputs": [],
   "source": [
    "f = open('outputs/phase1A.txt', 'w')\n",
    "for link in content['parse']['externallinks']:\n",
    "    f.write(link + '\\n')\n",
    "f.close()"
   ]
  },
  {
   "cell_type": "markdown",
   "metadata": {},
   "source": [
    "### Phase IC: Google API"
   ]
  },
  {
   "cell_type": "markdown",
   "metadata": {},
   "source": [
    "#### Page scrape (Older implementation)"
   ]
  },
  {
   "cell_type": "code",
   "execution_count": 6,
   "metadata": {},
   "outputs": [],
   "source": [
    "# Library requirements for this section\n",
    "from googlesearch import search"
   ]
  },
  {
   "cell_type": "code",
   "execution_count": 7,
   "metadata": {},
   "outputs": [],
   "source": [
    "results = search('A Guide To Different Types Of Coffee Beans, Roasts & Drinks\". 13 August 2021. Retrieved 16 January 2023', num_results = 10)"
   ]
  },
  {
   "cell_type": "code",
   "execution_count": 8,
   "metadata": {},
   "outputs": [
    {
     "name": "stdout",
     "output_type": "stream",
     "text": [
      "https://drinkgoldenratio.com/a/blog/types-of-coffee\n",
      "https://www.instacart.com/company/ideas/types-of-coffee/\n",
      "https://www.allrecipes.com/article/types-of-coffee/\n",
      "https://www.thepioneerwoman.com/food-cooking/a35153729/types-of-coffee/\n",
      "https://library.sweetmarias.com/using-sight-to-determine-degree-of-roast/\n",
      "http://scottjanish.com/guide-to-coffee-beers/\n",
      "https://onegreatcoffee.com/blogs/latest-news/types-of-coffee-drinks\n",
      "https://ift.onlinelibrary.wiley.com/doi/full/10.1111/1541-4337.13069\n",
      "https://library.sweetmarias.com/how-to-roast-your-own-coffee/\n"
     ]
    }
   ],
   "source": [
    "for i in results:\n",
    "    print(i)"
   ]
  }
 ],
 "metadata": {
  "kernelspec": {
   "display_name": "Python 3",
   "language": "python",
   "name": "python3"
  },
  "language_info": {
   "codemirror_mode": {
    "name": "ipython",
    "version": 3
   },
   "file_extension": ".py",
   "mimetype": "text/x-python",
   "name": "python",
   "nbconvert_exporter": "python",
   "pygments_lexer": "ipython3",
   "version": "3.11.9"
  }
 },
 "nbformat": 4,
 "nbformat_minor": 2
}
