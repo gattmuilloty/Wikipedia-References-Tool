{
 "cells": [
  {
   "cell_type": "markdown",
   "metadata": {},
   "source": [
    "### Phase IA: Wikipedia API"
   ]
  },
  {
   "cell_type": "markdown",
   "metadata": {},
   "source": [
    "#### API (Older implementation)"
   ]
  },
  {
   "cell_type": "code",
   "execution_count": null,
   "metadata": {},
   "outputs": [],
   "source": [
    "# Library requirements for this section\n",
    "import requests"
   ]
  },
  {
   "cell_type": "code",
   "execution_count": 63,
   "metadata": {},
   "outputs": [],
   "source": [
    "url = \"https://en.wikipedia.org/w/api.php\" # API endpoint\n",
    "\n",
    "params = {\n",
    "    \"action\": \"parse\",\n",
    "    \"page\": \"Coffee\",           # Page name\n",
    "    \"prop\": \"externallinks\",    # Get external links from the page\n",
    "    \"format\": \"json\"            # Output to JSON format\n",
    "}\n",
    "\n",
    "headers = { \"User-Agent\": \"DASC 690 (mattguilloty@gmail.com)\" } # Set User-Agent"
   ]
  },
  {
   "cell_type": "code",
   "execution_count": 64,
   "metadata": {},
   "outputs": [],
   "source": [
    "content = requests.get(url, headers = headers, params=params).json() # Make request for external links"
   ]
  },
  {
   "cell_type": "code",
   "execution_count": 65,
   "metadata": {},
   "outputs": [],
   "source": [
    "f = open('outputs/phase1A.txt', 'w')\n",
    "for link in content['parse']['externallinks']:\n",
    "    f.write(link + '\\n')\n",
    "f.close()"
   ]
  },
  {
   "cell_type": "markdown",
   "metadata": {},
   "source": [
    "#### Page scrape (Current implementation)"
   ]
  },
  {
   "cell_type": "code",
   "execution_count": 109,
   "metadata": {},
   "outputs": [],
   "source": [
    "# Library requirements for this section\n",
    "import requests\n",
    "from bs4 import BeautifulSoup"
   ]
  },
  {
   "cell_type": "code",
   "execution_count": 110,
   "metadata": {},
   "outputs": [],
   "source": [
    "url = 'https://en.wikipedia.org/wiki/Coffee'                    # URL for Wikipedia page\n",
    "\n",
    "headers = { \"User-Agent\": \"DASC 690 (mattguilloty@gmail.com)\" } # Set User-Agent\n",
    "\n",
    "response = requests.get(url, headers = headers)                 # Make request for page"
   ]
  },
  {
   "cell_type": "code",
   "execution_count": 111,
   "metadata": {},
   "outputs": [],
   "source": [
    "soup = BeautifulSoup(response.text, 'html.parser') # Parse HTML\n",
    "\n",
    "def extractReferences(soup):\n",
    "    spans = soup.find_all('span', class_ = 'reference-text')                      # Find all of the instances of the References container\n",
    "    texts = [span.get_text() for span in spans]                                   # Get text for each reference\n",
    "    links = [[link.get('href') for link in span.find_all('a')] for span in spans] # Get links for each reference\n",
    "    return texts, links\n",
    "\n",
    "texts, links = extractReferences(soup)"
   ]
  },
  {
   "cell_type": "code",
   "execution_count": 118,
   "metadata": {},
   "outputs": [
    {
     "name": "stdout",
     "output_type": "stream",
     "text": [
      "\n",
      "Ukers WH (1922). All About Coffee. Tea and Coffee Trade Journal Company. p. 5.\n",
      "Johns Hopkins University Studies in Historical and Political Science. Johns Hopkins University Press. 1967. p. 25.\n",
      "Elzebroek AT (2008). Guide to Cultivated Plants. CABI. p. 7. ISBN 978-1-84593-356-2.\n",
      "\n",
      "['https://books.google.com/books?id=4O_RAAAAMAAJ', 'https://books.google.com/books?id=GSw7AAAAIAAJ', 'https://books.google.com/books?id=YvU1XnUVxFQC', '/wiki/CAB_International', '/wiki/ISBN_(identifier)', '/wiki/Special:BookSources/978-1-84593-356-2']\n",
      "\n",
      "\"Global Hot Drinks Market Size, Share | Industry Trends Report, 2025\". www.grandviewresearch.com. Retrieved 18 July 2023.\n",
      "['https://www.grandviewresearch.com/industry-analysis/hot-drinks-market']\n",
      "\n",
      "Weinberg & Bealer 2001, pp. 3–4\n",
      "['#CITEREFWeinbergBealer2001']\n",
      "\n",
      "\"A Guide To Different Types Of Coffee Beans, Roasts & Drinks\". 13 August 2021. Retrieved 16 January 2023.\n",
      "['https://fluentincoffee.com/types-of-coffee/']\n",
      "\n",
      "\"33+ Buzzing Coffee Industry Statistics [2023]: Cafes, Consumption, And Market Trends\". Zippia. 19 March 2023. Retrieved 25 December 2023.\n",
      "['https://www.zippia.com/advice/coffee-industry-statistics/']\n",
      "\n"
     ]
    }
   ],
   "source": [
    "for i in range(5):\n",
    "    print(texts[i])\n",
    "    print(links[i])\n",
    "    print('')"
   ]
  },
  {
   "cell_type": "markdown",
   "metadata": {},
   "source": [
    "### Phase IB: Internet Archive API"
   ]
  },
  {
   "cell_type": "code",
   "execution_count": 122,
   "metadata": {},
   "outputs": [],
   "source": [
    "# Library requirements for this section\n",
    "import requests\n",
    "from bs4 import BeautifulSoup"
   ]
  },
  {
   "cell_type": "code",
   "execution_count": 5,
   "metadata": {},
   "outputs": [],
   "source": [
    "url = 'https://www.odu.edu/'\n",
    "\n",
    "apiURL = f'http://archive.org/wayback/available?url={url}' # API endpoint\n",
    "\n",
    "content = requests.get(apiURL, headers = headers).json() # Make request for archived site"
   ]
  },
  {
   "cell_type": "code",
   "execution_count": 6,
   "metadata": {},
   "outputs": [],
   "source": [
    "if content['archived_snapshots']:                                    # If an archived snapshot exists\n",
    "    closest = content['archived_snapshots']['closest']               # Get the closest/latest snapshot\n",
    "    if closest['available']:\n",
    "        closestURL = closest['url']                                  # Get the URL for the last snapshot\n",
    "        content = requests.get(closestURL, headers = headers)        # Make request\n",
    "        f = open('outputs/phase1B.html', 'w', encoding = 'utf-8')\n",
    "        f.write(content.text)\n",
    "        f.close()\n",
    "else:\n",
    "    print('No archives available')"
   ]
  },
  {
   "cell_type": "code",
   "execution_count": 8,
   "metadata": {},
   "outputs": [],
   "source": [
    "with open('outputs/phase1B.html', 'r') as file:\n",
    "    htmlContent = file.read()\n",
    "\n",
    "soup = BeautifulSoup(htmlContent, 'html.parser')\n",
    "\n",
    "text = soup.get_text()\n",
    "\n",
    "text = text.replace('\\n', '')\n",
    "\n",
    "f = open('outputs/phase1B.txt', 'w', encoding = 'utf-8')\n",
    "f.write(text)\n",
    "f.close()"
   ]
  },
  {
   "cell_type": "markdown",
   "metadata": {},
   "source": [
    "### Phase IC: Google API"
   ]
  },
  {
   "cell_type": "markdown",
   "metadata": {},
   "source": [
    "### Phase II"
   ]
  },
  {
   "cell_type": "code",
   "execution_count": 13,
   "metadata": {},
   "outputs": [],
   "source": [
    "import time"
   ]
  },
  {
   "cell_type": "code",
   "execution_count": 17,
   "metadata": {},
   "outputs": [
    {
     "name": "stdout",
     "output_type": "stream",
     "text": [
      "https://books.google.com/books?id=4O_RAAAAMAAJ\n",
      "200\n",
      "\n",
      "https://books.google.com/books?id=GSw7AAAAIAAJ\n",
      "200\n",
      "\n",
      "https://books.google.com/books?id=YvU1XnUVxFQC\n",
      "200\n",
      "\n",
      "https://www.grandviewresearch.com/industry-analysis/hot-drinks-market\n",
      "200\n",
      "\n",
      "https://fluentincoffee.com/types-of-coffee/\n",
      "200\n",
      "\n",
      "https://www.zippia.com/advice/coffee-industry-statistics/\n",
      "200\n",
      "\n",
      "https://archive.org/stream/oed02arch#page/588/mode/2up\n",
      "200\n",
      "\n",
      "https://www.jstor.org/stable/602112\n",
      "403\n",
      "\n",
      "https://doi.org/10.2307%2F602112\n",
      "403\n",
      "\n",
      "https://www.worldcat.org/issn/0003-0279\n",
      "200\n",
      "\n",
      "https://www.etymonline.com/word/coffee\n",
      "200\n"
     ]
    },
    {
     "ename": "KeyboardInterrupt",
     "evalue": "",
     "output_type": "error",
     "traceback": [
      "\u001b[1;31m---------------------------------------------------------------------------\u001b[0m",
      "\u001b[1;31mKeyboardInterrupt\u001b[0m                         Traceback (most recent call last)",
      "Cell \u001b[1;32mIn[17], line 12\u001b[0m\n\u001b[0;32m     10\u001b[0m \u001b[38;5;28;01mexcept\u001b[39;00m requests\u001b[38;5;241m.\u001b[39mexceptions\u001b[38;5;241m.\u001b[39mRequestException \u001b[38;5;28;01mas\u001b[39;00m e:\n\u001b[0;32m     11\u001b[0m     \u001b[38;5;28mprint\u001b[39m(\u001b[38;5;124m'\u001b[39m\u001b[38;5;124mAn error occurred:\u001b[39m\u001b[38;5;124m'\u001b[39m, e)\n\u001b[1;32m---> 12\u001b[0m time\u001b[38;5;241m.\u001b[39msleep(\u001b[38;5;241m1\u001b[39m)\n\u001b[0;32m     13\u001b[0m \u001b[38;5;28mprint\u001b[39m(\u001b[38;5;124m'\u001b[39m\u001b[38;5;124m'\u001b[39m)\n",
      "\u001b[1;31mKeyboardInterrupt\u001b[0m: "
     ]
    }
   ],
   "source": [
    "with open('outputs\\phase1A.txt', 'r') as file:\n",
    "    urls = file.readlines()\n",
    "\n",
    "urls = [url.strip() for url in urls]\n",
    "\n",
    "for url in urls:\n",
    "    print(url)\n",
    "    try:\n",
    "        print(requests.get(url, headers = headers, timeout = 5).status_code)\n",
    "    except requests.exceptions.RequestException as e:\n",
    "        print('An error occurred:', e)\n",
    "    time.sleep(1)\n",
    "    print('')\n",
    "\n"
   ]
  }
 ],
 "metadata": {
  "kernelspec": {
   "display_name": "Python 3",
   "language": "python",
   "name": "python3"
  },
  "language_info": {
   "codemirror_mode": {
    "name": "ipython",
    "version": 3
   },
   "file_extension": ".py",
   "mimetype": "text/x-python",
   "name": "python",
   "nbconvert_exporter": "python",
   "pygments_lexer": "ipython3",
   "version": "3.11.9"
  }
 },
 "nbformat": 4,
 "nbformat_minor": 2
}
