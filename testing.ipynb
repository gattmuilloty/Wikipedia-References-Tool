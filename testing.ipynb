{
 "cells": [
  {
   "cell_type": "markdown",
   "metadata": {},
   "source": [
    "### Phase IA: Wikipedia Page Scrape"
   ]
  },
  {
   "cell_type": "code",
   "execution_count": 93,
   "metadata": {},
   "outputs": [],
   "source": [
    "# Library requirements for this section\n",
    "import requests\n",
    "from bs4 import BeautifulSoup\n",
    "import pandas as pd"
   ]
  },
  {
   "cell_type": "code",
   "execution_count": 104,
   "metadata": {},
   "outputs": [],
   "source": [
    "pageName = 'Boot'\n",
    "\n",
    "url = 'https://en.wikipedia.org/wiki/' + pageName               # URL for Wikipedia page\n",
    "\n",
    "headers = { \"User-Agent\": \"DASC 690 (mattguilloty@gmail.com)\" } # Set User-Agent\n",
    "\n",
    "response = requests.get(url, headers = headers)                 # Make request for page"
   ]
  },
  {
   "cell_type": "code",
   "execution_count": 105,
   "metadata": {},
   "outputs": [],
   "source": [
    "soup = BeautifulSoup(response.text, 'html.parser') # Parse HTML\n",
    "\n",
    "def extractReferences(soup):\n",
    "    spans = soup.find_all('span', class_ = 'reference-text')                      # Find all of the instances of the References container\n",
    "    texts = [span.get_text() for span in spans]                                   # Get text for each reference\n",
    "    links = [[link.get('href') for link in span.find_all('a')] for span in spans] # Get links for each reference\n",
    "    return texts, links\n",
    "\n",
    "texts, links = extractReferences(soup)"
   ]
  },
  {
   "cell_type": "code",
   "execution_count": 106,
   "metadata": {},
   "outputs": [],
   "source": [
    "df = pd.DataFrame(links)\n",
    "\n",
    "df.insert(0, 'reference', texts)\n",
    "\n",
    "df.to_csv('outputs/phase1A.csv', index = False)"
   ]
  },
  {
   "cell_type": "markdown",
   "metadata": {},
   "source": [
    "#### **phase1A.csv:**"
   ]
  },
  {
   "cell_type": "code",
   "execution_count": 8,
   "metadata": {},
   "outputs": [
    {
     "data": {
      "text/html": [
       "<div>\n",
       "<style scoped>\n",
       "    .dataframe tbody tr th:only-of-type {\n",
       "        vertical-align: middle;\n",
       "    }\n",
       "\n",
       "    .dataframe tbody tr th {\n",
       "        vertical-align: top;\n",
       "    }\n",
       "\n",
       "    .dataframe thead th {\n",
       "        text-align: right;\n",
       "    }\n",
       "</style>\n",
       "<table border=\"1\" class=\"dataframe\">\n",
       "  <thead>\n",
       "    <tr style=\"text-align: right;\">\n",
       "      <th></th>\n",
       "      <th>reference</th>\n",
       "      <th>0</th>\n",
       "      <th>1</th>\n",
       "      <th>2</th>\n",
       "      <th>3</th>\n",
       "    </tr>\n",
       "  </thead>\n",
       "  <tbody>\n",
       "    <tr>\n",
       "      <th>0</th>\n",
       "      <td>Fiona McDonald (30 July 2006). Shoes and Boots...</td>\n",
       "      <td>https://books.google.com/books?id=WCyp2q7nQAkC</td>\n",
       "      <td>/wiki/ISBN_(identifier)</td>\n",
       "      <td>/wiki/Special:BookSources/978-0-8368-6857-9</td>\n",
       "      <td>NaN</td>\n",
       "    </tr>\n",
       "    <tr>\n",
       "      <th>1</th>\n",
       "      <td>\"Making Sure Your Work Boots Make the Grade\". ...</td>\n",
       "      <td>https://drewsboots.com/content/making-sure-you...</td>\n",
       "      <td>NaN</td>\n",
       "      <td>NaN</td>\n",
       "      <td>NaN</td>\n",
       "    </tr>\n",
       "    <tr>\n",
       "      <th>2</th>\n",
       "      <td>Collection, Thomas George. \"What are the most ...</td>\n",
       "      <td>https://tgcollection.com.au/blogs/tgc-blog/mos...</td>\n",
       "      <td>NaN</td>\n",
       "      <td>NaN</td>\n",
       "      <td>NaN</td>\n",
       "    </tr>\n",
       "    <tr>\n",
       "      <th>3</th>\n",
       "      <td>Margo DeMello (1 September 2009). Feet and foo...</td>\n",
       "      <td>https://books.google.com/books?id=5QdKSxajwP0C...</td>\n",
       "      <td>/wiki/ISBN_(identifier)</td>\n",
       "      <td>/wiki/Special:BookSources/978-0-313-35714-5</td>\n",
       "      <td>https://web.archive.org/web/20130602195904/htt...</td>\n",
       "    </tr>\n",
       "    <tr>\n",
       "      <th>4</th>\n",
       "      <td>Alex Henderson (Jan 8, 2014). \"Kinky Boots: An...</td>\n",
       "      <td>https://www.xbiz.com/features/173135/kinky-boo...</td>\n",
       "      <td>NaN</td>\n",
       "      <td>NaN</td>\n",
       "      <td>NaN</td>\n",
       "    </tr>\n",
       "  </tbody>\n",
       "</table>\n",
       "</div>"
      ],
      "text/plain": [
       "                                           reference  \\\n",
       "0  Fiona McDonald (30 July 2006). Shoes and Boots...   \n",
       "1  \"Making Sure Your Work Boots Make the Grade\". ...   \n",
       "2  Collection, Thomas George. \"What are the most ...   \n",
       "3  Margo DeMello (1 September 2009). Feet and foo...   \n",
       "4  Alex Henderson (Jan 8, 2014). \"Kinky Boots: An...   \n",
       "\n",
       "                                                   0                        1  \\\n",
       "0     https://books.google.com/books?id=WCyp2q7nQAkC  /wiki/ISBN_(identifier)   \n",
       "1  https://drewsboots.com/content/making-sure-you...                      NaN   \n",
       "2  https://tgcollection.com.au/blogs/tgc-blog/mos...                      NaN   \n",
       "3  https://books.google.com/books?id=5QdKSxajwP0C...  /wiki/ISBN_(identifier)   \n",
       "4  https://www.xbiz.com/features/173135/kinky-boo...                      NaN   \n",
       "\n",
       "                                             2  \\\n",
       "0  /wiki/Special:BookSources/978-0-8368-6857-9   \n",
       "1                                          NaN   \n",
       "2                                          NaN   \n",
       "3  /wiki/Special:BookSources/978-0-313-35714-5   \n",
       "4                                          NaN   \n",
       "\n",
       "                                                   3  \n",
       "0                                                NaN  \n",
       "1                                                NaN  \n",
       "2                                                NaN  \n",
       "3  https://web.archive.org/web/20130602195904/htt...  \n",
       "4                                                NaN  "
      ]
     },
     "execution_count": 8,
     "metadata": {},
     "output_type": "execute_result"
    }
   ],
   "source": [
    "pd.read_csv('outputs/phase1A.csv').head()"
   ]
  },
  {
   "cell_type": "markdown",
   "metadata": {},
   "source": [
    "### Phase IB: Internet Archive API"
   ]
  },
  {
   "cell_type": "code",
   "execution_count": 13,
   "metadata": {},
   "outputs": [],
   "source": [
    "# Library requirements for this section\n",
    "import requests\n",
    "from bs4 import BeautifulSoup"
   ]
  },
  {
   "cell_type": "code",
   "execution_count": 30,
   "metadata": {},
   "outputs": [],
   "source": [
    "url = 'https://www.youtube.com/'\n",
    "\n",
    "apiURL = f'http://archive.org/wayback/available?url={url}' # API endpoint\n",
    "\n",
    "content = requests.get(apiURL, headers = headers).json() # Make request for archived site"
   ]
  },
  {
   "cell_type": "code",
   "execution_count": 31,
   "metadata": {},
   "outputs": [
    {
     "data": {
      "text/plain": [
       "{'url': 'https://www.youtube.com/',\n",
       " 'archived_snapshots': {'closest': {'status': '200',\n",
       "   'available': True,\n",
       "   'url': 'http://web.archive.org/web/20240626121548/https://www.youtube.com/',\n",
       "   'timestamp': '20240626121548'}}}"
      ]
     },
     "execution_count": 31,
     "metadata": {},
     "output_type": "execute_result"
    }
   ],
   "source": [
    "content"
   ]
  },
  {
   "cell_type": "code",
   "execution_count": 33,
   "metadata": {},
   "outputs": [],
   "source": [
    "if content['archived_snapshots']:                                    # If an archived snapshot exists\n",
    "    closest = content['archived_snapshots']['closest']               # Get the closest/latest snapshot\n",
    "    if closest['available']:\n",
    "        closestURL = closest['url']                                  # Get the URL for the last snapshot\n",
    "        content = requests.get(closestURL, headers = headers)        # Make request\n",
    "        f = open('outputs/phase1B.html', 'w', encoding='utf-8')\n",
    "        f.write(content.text)\n",
    "        f.close()\n",
    "else:\n",
    "    print('No archives available')"
   ]
  },
  {
   "cell_type": "code",
   "execution_count": 35,
   "metadata": {},
   "outputs": [],
   "source": [
    "with open('outputs/phase1B.html', 'r', encoding = 'utf-8') as file:\n",
    "    htmlContent = file.read()\n",
    "\n",
    "soup = BeautifulSoup(htmlContent, 'html.parser')\n",
    "\n",
    "text = soup.get_text()\n",
    "\n",
    "text = text.replace('\\n', '')\n",
    "\n",
    "f = open('outputs/phase1B.txt', 'w', encoding = 'utf-8')\n",
    "f.write(text)\n",
    "f.close()"
   ]
  },
  {
   "cell_type": "markdown",
   "metadata": {},
   "source": [
    "### Phase IC: Google Custom Search API"
   ]
  },
  {
   "cell_type": "code",
   "execution_count": 36,
   "metadata": {},
   "outputs": [],
   "source": [
    "# Library requirements for this section\n",
    "import requests"
   ]
  },
  {
   "cell_type": "code",
   "execution_count": 37,
   "metadata": {},
   "outputs": [],
   "source": [
    "def googleSearch(query, APIkey, CSEid, numResults = 10):\n",
    "    url = \"https://www.googleapis.com/customsearch/v1\"                # API endpoint\n",
    "    params = {\n",
    "        'key': APIkey,\n",
    "        'cx': CSEid,\n",
    "        'q': query,\n",
    "        'num': numResults\n",
    "    }\n",
    "    response = requests.get(url, params = params)                     # Make request to endpoint\n",
    "    searchResults = response.json()\n",
    "    links = [item['link'] for item in searchResults.get('items', [])] # Get links of results\n",
    "    return links"
   ]
  },
  {
   "cell_type": "code",
   "execution_count": 38,
   "metadata": {},
   "outputs": [
    {
     "name": "stdout",
     "output_type": "stream",
     "text": [
      "Query: Cat \n",
      "\n",
      "https://www.cat.com/global-selector.html\n",
      "https://en.wikipedia.org/wiki/Cat\n",
      "https://www.cat.com/en_US.html\n",
      "https://www.caterpillar.com/\n",
      "https://www.catphones.com/\n",
      "http://www.catfootwear.com/en/home\n",
      "https://www.ohchr.org/en/treaty-bodies/cat\n",
      "https://www.facebook.com/YusufCatStevens/\n",
      "https://www.narescue.com/combat-application-tourniquet-c-a-t.html\n",
      "https://www.vetstreet.com/cats\n"
     ]
    }
   ],
   "source": [
    "APIkey = input(\"Enter API Key: \")\n",
    "CSEid = input(\"Enter CSE ID: \")\n",
    "query = \"Cat\"\n",
    "links = googleSearch(query, APIkey, CSEid)\n",
    "\n",
    "print('Query:', query, '\\n')\n",
    "for i, link in enumerate(links):\n",
    "    print(link)"
   ]
  },
  {
   "cell_type": "markdown",
   "metadata": {},
   "source": [
    "### Phase II"
   ]
  },
  {
   "cell_type": "code",
   "execution_count": 2,
   "metadata": {},
   "outputs": [],
   "source": [
    "import time\n",
    "import requests\n",
    "import pandas as pd\n",
    "import time"
   ]
  },
  {
   "cell_type": "code",
   "execution_count": 3,
   "metadata": {},
   "outputs": [],
   "source": [
    "statusCodes = {\n",
    "    100: \"Continue\", 101: \"Switching Protocols\", 102: \"Processing\",\n",
    "    200: \"OK\", 201: \"Created\", 202: \"Accepted\", 203: \"Non-Authoritative Information\", 204: \"No Content\", 205: \"Reset Content\", 206: \"Partial Content\", 207: \"Multi-Status\", 208: \"Already Reported\", 226: \"IM Used\",\n",
    "    300: \"Multiple Choices\", 301: \"Moved Permanently\", 302: \"Found\", 303: \"See Other\", 304: \"Not Modified\", 305: \"Use Proxy\", 307: \"Temporary Redirect\", 308: \"Permanent Redirect\", 400: \"Bad Request\",\n",
    "    401: \"Unauthorized\", 402: \"Payment Required\", 403: \"Forbidden\", 404: \"Not Found\", 405: \"Method Not Allowed\", 406: \"Not Acceptable\", 407: \"Proxy Authentication Required\", 408: \"Request Timeout\", 409: \"Conflict\",\n",
    "    410: \"Gone\", 411: \"Length Required\", 412: \"Precondition Failed\", 413: \"Payload Too Large\", 414: \"URI Too Long\", 415: \"Unsupported Media Type\", 416: \"Range Not Satisfiable\", 417: \"Expectation Failed\", 418: \"I'm a teapot\", 421: \"Misdirected Request\", \n",
    "    422: \"Unprocessable Entity\", 423: \"Locked\", 424: \"Failed Dependency\", 425: \"Too Early\", 426: \"Upgrade Required\", 428: \"Precondition Required\", 429: \"Too Many Requests\", 431: \"Request Header Fields Too Large\", 451: \"Unavailable For Legal Reasons\", \n",
    "    500: \"Internal Server Error\", 501: \"Not Implemented\", 502: \"Bad Gateway\", 503: \"Service Unavailable\", 504: \"Gateway Timeout\", 505: \"HTTP Version Not Supported\", 506: \"Variant Also Negotiates\", 507: \"Insufficient Storage\", 508: \"Loop Detected\", 510: \"Not Extended\", 511: \"Network Authentication Required\",\n",
    "    'Error': 'Error'\n",
    "}"
   ]
  },
  {
   "cell_type": "code",
   "execution_count": 4,
   "metadata": {},
   "outputs": [
    {
     "data": {
      "text/html": [
       "<div>\n",
       "<style scoped>\n",
       "    .dataframe tbody tr th:only-of-type {\n",
       "        vertical-align: middle;\n",
       "    }\n",
       "\n",
       "    .dataframe tbody tr th {\n",
       "        vertical-align: top;\n",
       "    }\n",
       "\n",
       "    .dataframe thead th {\n",
       "        text-align: right;\n",
       "    }\n",
       "</style>\n",
       "<table border=\"1\" class=\"dataframe\">\n",
       "  <thead>\n",
       "    <tr style=\"text-align: right;\">\n",
       "      <th></th>\n",
       "      <th>reference</th>\n",
       "      <th>0</th>\n",
       "      <th>1</th>\n",
       "      <th>2</th>\n",
       "      <th>3</th>\n",
       "    </tr>\n",
       "  </thead>\n",
       "  <tbody>\n",
       "    <tr>\n",
       "      <th>0</th>\n",
       "      <td>Fiona McDonald (30 July 2006). Shoes and Boots...</td>\n",
       "      <td>https://books.google.com/books?id=WCyp2q7nQAkC</td>\n",
       "      <td>/wiki/ISBN_(identifier)</td>\n",
       "      <td>/wiki/Special:BookSources/978-0-8368-6857-9</td>\n",
       "      <td>NaN</td>\n",
       "    </tr>\n",
       "    <tr>\n",
       "      <th>1</th>\n",
       "      <td>\"Making Sure Your Work Boots Make the Grade\". ...</td>\n",
       "      <td>https://drewsboots.com/content/making-sure-you...</td>\n",
       "      <td>NaN</td>\n",
       "      <td>NaN</td>\n",
       "      <td>NaN</td>\n",
       "    </tr>\n",
       "    <tr>\n",
       "      <th>2</th>\n",
       "      <td>Collection, Thomas George. \"What are the most ...</td>\n",
       "      <td>https://tgcollection.com.au/blogs/tgc-blog/mos...</td>\n",
       "      <td>NaN</td>\n",
       "      <td>NaN</td>\n",
       "      <td>NaN</td>\n",
       "    </tr>\n",
       "    <tr>\n",
       "      <th>3</th>\n",
       "      <td>Margo DeMello (1 September 2009). Feet and foo...</td>\n",
       "      <td>https://books.google.com/books?id=5QdKSxajwP0C...</td>\n",
       "      <td>/wiki/ISBN_(identifier)</td>\n",
       "      <td>/wiki/Special:BookSources/978-0-313-35714-5</td>\n",
       "      <td>https://web.archive.org/web/20130602195904/htt...</td>\n",
       "    </tr>\n",
       "    <tr>\n",
       "      <th>4</th>\n",
       "      <td>Alex Henderson (Jan 8, 2014). \"Kinky Boots: An...</td>\n",
       "      <td>https://www.xbiz.com/features/173135/kinky-boo...</td>\n",
       "      <td>NaN</td>\n",
       "      <td>NaN</td>\n",
       "      <td>NaN</td>\n",
       "    </tr>\n",
       "  </tbody>\n",
       "</table>\n",
       "</div>"
      ],
      "text/plain": [
       "                                           reference  \\\n",
       "0  Fiona McDonald (30 July 2006). Shoes and Boots...   \n",
       "1  \"Making Sure Your Work Boots Make the Grade\". ...   \n",
       "2  Collection, Thomas George. \"What are the most ...   \n",
       "3  Margo DeMello (1 September 2009). Feet and foo...   \n",
       "4  Alex Henderson (Jan 8, 2014). \"Kinky Boots: An...   \n",
       "\n",
       "                                                   0                        1  \\\n",
       "0     https://books.google.com/books?id=WCyp2q7nQAkC  /wiki/ISBN_(identifier)   \n",
       "1  https://drewsboots.com/content/making-sure-you...                      NaN   \n",
       "2  https://tgcollection.com.au/blogs/tgc-blog/mos...                      NaN   \n",
       "3  https://books.google.com/books?id=5QdKSxajwP0C...  /wiki/ISBN_(identifier)   \n",
       "4  https://www.xbiz.com/features/173135/kinky-boo...                      NaN   \n",
       "\n",
       "                                             2  \\\n",
       "0  /wiki/Special:BookSources/978-0-8368-6857-9   \n",
       "1                                          NaN   \n",
       "2                                          NaN   \n",
       "3  /wiki/Special:BookSources/978-0-313-35714-5   \n",
       "4                                          NaN   \n",
       "\n",
       "                                                   3  \n",
       "0                                                NaN  \n",
       "1                                                NaN  \n",
       "2                                                NaN  \n",
       "3  https://web.archive.org/web/20130602195904/htt...  \n",
       "4                                                NaN  "
      ]
     },
     "execution_count": 4,
     "metadata": {},
     "output_type": "execute_result"
    }
   ],
   "source": [
    "df = pd.read_csv('outputs/phase1A.csv')\n",
    "df.head()"
   ]
  },
  {
   "cell_type": "code",
   "execution_count": 5,
   "metadata": {},
   "outputs": [],
   "source": [
    "referenceText = []\n",
    "urls = []\n",
    "\n",
    "for index, row in df.iterrows():\n",
    "    for i in range(len(row)):\n",
    "       if 'http' in str(row.iloc[i]):\n",
    "            referenceText.append(row.iloc[0])\n",
    "            urls.append(row.iloc[i])"
   ]
  },
  {
   "cell_type": "code",
   "execution_count": 6,
   "metadata": {},
   "outputs": [
    {
     "name": "stdout",
     "output_type": "stream",
     "text": [
      "https://books.google.com/books?id=WCyp2q7nQAkC - 200 : OK\n",
      "https://drewsboots.com/content/making-sure-your-work-boots-make-grade - 200 : OK\n",
      "https://tgcollection.com.au/blogs/tgc-blog/most-comfortable-mens-boots - 200 : OK\n",
      "https://books.google.com/books?id=5QdKSxajwP0C&pg=PA65 - 200 : OK\n",
      "https://web.archive.org/web/20130602195904/http://books.google.com/books?id=5QdKSxajwP0C&pg=PA65 - 200 : OK\n",
      "https://www.xbiz.com/features/173135/kinky-boots-an-enduring-symbol-in-fetish-fashion - 200 : OK\n",
      "https://www.westernbootbarn.com.au/blog/the-history-of-cowboy-boots/ - 200 : OK\n",
      "https://buffalojackson.com/blogs/journal/the-history-of-cowboy-boots - 200 : OK\n",
      "https://www.thezoereport.com/fashion/cowboy-boot-trend - 200 : OK\n",
      "https://www.vogue.co.uk/fashion/article/cowboy-boots-trend - 200 : OK\n",
      "https://www.hellomagazine.com/shopping/20220430139158/best-cowboy-boots-to-shop-now/ - 404 : Not Found\n",
      "http://www.macmillandictionary.com/thesaurus/british/tough#as-tough-as-old-boots_1 - 200 : OK\n",
      "https://web.archive.org/web/20120112135156/http://www.macmillandictionary.com/thesaurus/british/tough#as-tough-as-old-boots_1 - 200 : OK\n",
      "https://listserv.linguistlist.org/pipermail/ads-l/2005-August/052756.html - 200 : OK\n",
      "http://idioms.thefreedictionary.com/boot - 200 : OK\n"
     ]
    }
   ],
   "source": [
    "headers = {'User-Agent': 'Mozilla/5.0 (Windows NT 10.0; Win64; x64) AppleWebKit/537.36 (KHTML, like Gecko) Chrome/91.0.4472.124 Safari/537.36'}\n",
    "\n",
    "def get_status_code(url):\n",
    "    try:\n",
    "        response = requests.get(url, headers = headers, timeout = 5)\n",
    "        return response.status_code\n",
    "    except requests.exceptions.RequestException as e:\n",
    "        return 'Error'\n",
    "    \n",
    "statuses = []\n",
    "description = []\n",
    "\n",
    "for url in urls:\n",
    "    status = get_status_code(url)\n",
    "\n",
    "    print(url + ' - ' + str(status) + ' : ' + statusCodes[status])\n",
    "    \n",
    "    statuses.append(status)\n",
    "    description.append(statusCodes[status])\n",
    "\n",
    "    time.sleep(1)\n",
    "\n",
    "\n",
    "df = pd.DataFrame({\n",
    "    'reference': referenceText,\n",
    "    'URL': urls,\n",
    "    'status': statuses,\n",
    "    'description': description\n",
    "})\n",
    "\n",
    "df.to_csv('outputs/phase2.csv', index = False)"
   ]
  },
  {
   "cell_type": "markdown",
   "metadata": {},
   "source": [
    "#### **phase2.csv:**"
   ]
  },
  {
   "cell_type": "code",
   "execution_count": 7,
   "metadata": {},
   "outputs": [
    {
     "data": {
      "text/html": [
       "<div>\n",
       "<style scoped>\n",
       "    .dataframe tbody tr th:only-of-type {\n",
       "        vertical-align: middle;\n",
       "    }\n",
       "\n",
       "    .dataframe tbody tr th {\n",
       "        vertical-align: top;\n",
       "    }\n",
       "\n",
       "    .dataframe thead th {\n",
       "        text-align: right;\n",
       "    }\n",
       "</style>\n",
       "<table border=\"1\" class=\"dataframe\">\n",
       "  <thead>\n",
       "    <tr style=\"text-align: right;\">\n",
       "      <th></th>\n",
       "      <th>reference</th>\n",
       "      <th>URL</th>\n",
       "      <th>status</th>\n",
       "      <th>description</th>\n",
       "    </tr>\n",
       "  </thead>\n",
       "  <tbody>\n",
       "    <tr>\n",
       "      <th>0</th>\n",
       "      <td>Fiona McDonald (30 July 2006). Shoes and Boots...</td>\n",
       "      <td>https://books.google.com/books?id=WCyp2q7nQAkC</td>\n",
       "      <td>200</td>\n",
       "      <td>OK</td>\n",
       "    </tr>\n",
       "    <tr>\n",
       "      <th>1</th>\n",
       "      <td>\"Making Sure Your Work Boots Make the Grade\". ...</td>\n",
       "      <td>https://drewsboots.com/content/making-sure-you...</td>\n",
       "      <td>200</td>\n",
       "      <td>OK</td>\n",
       "    </tr>\n",
       "    <tr>\n",
       "      <th>2</th>\n",
       "      <td>Collection, Thomas George. \"What are the most ...</td>\n",
       "      <td>https://tgcollection.com.au/blogs/tgc-blog/mos...</td>\n",
       "      <td>200</td>\n",
       "      <td>OK</td>\n",
       "    </tr>\n",
       "    <tr>\n",
       "      <th>3</th>\n",
       "      <td>Margo DeMello (1 September 2009). Feet and foo...</td>\n",
       "      <td>https://books.google.com/books?id=5QdKSxajwP0C...</td>\n",
       "      <td>200</td>\n",
       "      <td>OK</td>\n",
       "    </tr>\n",
       "    <tr>\n",
       "      <th>4</th>\n",
       "      <td>Margo DeMello (1 September 2009). Feet and foo...</td>\n",
       "      <td>https://web.archive.org/web/20130602195904/htt...</td>\n",
       "      <td>200</td>\n",
       "      <td>OK</td>\n",
       "    </tr>\n",
       "    <tr>\n",
       "      <th>5</th>\n",
       "      <td>Alex Henderson (Jan 8, 2014). \"Kinky Boots: An...</td>\n",
       "      <td>https://www.xbiz.com/features/173135/kinky-boo...</td>\n",
       "      <td>200</td>\n",
       "      <td>OK</td>\n",
       "    </tr>\n",
       "    <tr>\n",
       "      <th>6</th>\n",
       "      <td>\"The History Of Cowboy Boots\". Western Boot Ba...</td>\n",
       "      <td>https://www.westernbootbarn.com.au/blog/the-hi...</td>\n",
       "      <td>200</td>\n",
       "      <td>OK</td>\n",
       "    </tr>\n",
       "    <tr>\n",
       "      <th>7</th>\n",
       "      <td>Co, Buffalo Jackson Trading. \"The History Of C...</td>\n",
       "      <td>https://buffalojackson.com/blogs/journal/the-h...</td>\n",
       "      <td>200</td>\n",
       "      <td>OK</td>\n",
       "    </tr>\n",
       "    <tr>\n",
       "      <th>8</th>\n",
       "      <td>\"Hand-Painted Floral Cowboy Boots? Yes, Please...</td>\n",
       "      <td>https://www.thezoereport.com/fashion/cowboy-bo...</td>\n",
       "      <td>200</td>\n",
       "      <td>OK</td>\n",
       "    </tr>\n",
       "    <tr>\n",
       "      <th>9</th>\n",
       "      <td>\"Cowboy Boots Will Be In Every Festival Field ...</td>\n",
       "      <td>https://www.vogue.co.uk/fashion/article/cowboy...</td>\n",
       "      <td>200</td>\n",
       "      <td>OK</td>\n",
       "    </tr>\n",
       "    <tr>\n",
       "      <th>10</th>\n",
       "      <td>\"17 best cowboy boots for 2022: From ASOS, Zar...</td>\n",
       "      <td>https://www.hellomagazine.com/shopping/2022043...</td>\n",
       "      <td>404</td>\n",
       "      <td>Not Found</td>\n",
       "    </tr>\n",
       "    <tr>\n",
       "      <th>11</th>\n",
       "      <td>\"American English Thesaurus\". \"as tough as old...</td>\n",
       "      <td>http://www.macmillandictionary.com/thesaurus/b...</td>\n",
       "      <td>200</td>\n",
       "      <td>OK</td>\n",
       "    </tr>\n",
       "    <tr>\n",
       "      <th>12</th>\n",
       "      <td>\"American English Thesaurus\". \"as tough as old...</td>\n",
       "      <td>https://web.archive.org/web/20120112135156/htt...</td>\n",
       "      <td>200</td>\n",
       "      <td>OK</td>\n",
       "    </tr>\n",
       "    <tr>\n",
       "      <th>13</th>\n",
       "      <td>\"It's been widely suggested that the \"bootstra...</td>\n",
       "      <td>https://listserv.linguistlist.org/pipermail/ad...</td>\n",
       "      <td>200</td>\n",
       "      <td>OK</td>\n",
       "    </tr>\n",
       "    <tr>\n",
       "      <th>14</th>\n",
       "      <td>\"boot\". The Free Dictionary, 2012 by Farlex, I...</td>\n",
       "      <td>http://idioms.thefreedictionary.com/boot</td>\n",
       "      <td>200</td>\n",
       "      <td>OK</td>\n",
       "    </tr>\n",
       "  </tbody>\n",
       "</table>\n",
       "</div>"
      ],
      "text/plain": [
       "                                            reference  \\\n",
       "0   Fiona McDonald (30 July 2006). Shoes and Boots...   \n",
       "1   \"Making Sure Your Work Boots Make the Grade\". ...   \n",
       "2   Collection, Thomas George. \"What are the most ...   \n",
       "3   Margo DeMello (1 September 2009). Feet and foo...   \n",
       "4   Margo DeMello (1 September 2009). Feet and foo...   \n",
       "5   Alex Henderson (Jan 8, 2014). \"Kinky Boots: An...   \n",
       "6   \"The History Of Cowboy Boots\". Western Boot Ba...   \n",
       "7   Co, Buffalo Jackson Trading. \"The History Of C...   \n",
       "8   \"Hand-Painted Floral Cowboy Boots? Yes, Please...   \n",
       "9   \"Cowboy Boots Will Be In Every Festival Field ...   \n",
       "10  \"17 best cowboy boots for 2022: From ASOS, Zar...   \n",
       "11  \"American English Thesaurus\". \"as tough as old...   \n",
       "12  \"American English Thesaurus\". \"as tough as old...   \n",
       "13  \"It's been widely suggested that the \"bootstra...   \n",
       "14  \"boot\". The Free Dictionary, 2012 by Farlex, I...   \n",
       "\n",
       "                                                  URL  status description  \n",
       "0      https://books.google.com/books?id=WCyp2q7nQAkC     200          OK  \n",
       "1   https://drewsboots.com/content/making-sure-you...     200          OK  \n",
       "2   https://tgcollection.com.au/blogs/tgc-blog/mos...     200          OK  \n",
       "3   https://books.google.com/books?id=5QdKSxajwP0C...     200          OK  \n",
       "4   https://web.archive.org/web/20130602195904/htt...     200          OK  \n",
       "5   https://www.xbiz.com/features/173135/kinky-boo...     200          OK  \n",
       "6   https://www.westernbootbarn.com.au/blog/the-hi...     200          OK  \n",
       "7   https://buffalojackson.com/blogs/journal/the-h...     200          OK  \n",
       "8   https://www.thezoereport.com/fashion/cowboy-bo...     200          OK  \n",
       "9   https://www.vogue.co.uk/fashion/article/cowboy...     200          OK  \n",
       "10  https://www.hellomagazine.com/shopping/2022043...     404   Not Found  \n",
       "11  http://www.macmillandictionary.com/thesaurus/b...     200          OK  \n",
       "12  https://web.archive.org/web/20120112135156/htt...     200          OK  \n",
       "13  https://listserv.linguistlist.org/pipermail/ad...     200          OK  \n",
       "14           http://idioms.thefreedictionary.com/boot     200          OK  "
      ]
     },
     "execution_count": 7,
     "metadata": {},
     "output_type": "execute_result"
    }
   ],
   "source": [
    "pd.read_csv('outputs/phase2.csv')"
   ]
  }
 ],
 "metadata": {
  "kernelspec": {
   "display_name": "Python 3",
   "language": "python",
   "name": "python3"
  },
  "language_info": {
   "codemirror_mode": {
    "name": "ipython",
    "version": 3
   },
   "file_extension": ".py",
   "mimetype": "text/x-python",
   "name": "python",
   "nbconvert_exporter": "python",
   "pygments_lexer": "ipython3",
   "version": "3.11.9"
  }
 },
 "nbformat": 4,
 "nbformat_minor": 2
}
