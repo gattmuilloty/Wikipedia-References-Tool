{
 "cells": [
  {
   "cell_type": "markdown",
   "metadata": {},
   "source": [
    "### Phase IA: Wikipedia API"
   ]
  },
  {
   "cell_type": "markdown",
   "metadata": {},
   "source": [
    "#### API (Older implementation)"
   ]
  },
  {
   "cell_type": "code",
   "execution_count": 1,
   "metadata": {},
   "outputs": [],
   "source": [
    "# Library requirements for this section\n",
    "import requests"
   ]
  },
  {
   "cell_type": "code",
   "execution_count": 2,
   "metadata": {},
   "outputs": [],
   "source": [
    "url = \"https://en.wikipedia.org/w/api.php\" # API endpoint\n",
    "\n",
    "params = {\n",
    "    \"action\": \"parse\",\n",
    "    \"page\": \"United_States\",           # Page name\n",
    "    \"prop\": \"externallinks\",    # Get external links from the page\n",
    "    \"format\": \"json\"            # Output to JSON format\n",
    "}\n",
    "\n",
    "headers = { \"User-Agent\": \"DASC 690 (mattguilloty@gmail.com)\" } # Set User-Agent"
   ]
  },
  {
   "cell_type": "code",
   "execution_count": 3,
   "metadata": {},
   "outputs": [],
   "source": [
    "content = requests.get(url, headers = headers, params=params).json() # Make request for external links"
   ]
  },
  {
   "cell_type": "code",
   "execution_count": 4,
   "metadata": {},
   "outputs": [],
   "source": [
    "f = open('outputs/phase1A.txt', 'w')\n",
    "for link in content['parse']['externallinks']:\n",
    "    f.write(link + '\\n')\n",
    "f.close()"
   ]
  },
  {
   "cell_type": "markdown",
   "metadata": {},
   "source": [
    "#### Page scrape (Current implementation)"
   ]
  },
  {
   "cell_type": "code",
   "execution_count": 3,
   "metadata": {},
   "outputs": [],
   "source": [
    "# Library requirements for this section\n",
    "import requests\n",
    "from bs4 import BeautifulSoup\n",
    "import pandas as pd"
   ]
  },
  {
   "cell_type": "code",
   "execution_count": 4,
   "metadata": {},
   "outputs": [],
   "source": [
    "pageName = 'Tuna'\n",
    "\n",
    "url = 'https://en.wikipedia.org/wiki/' + pageName               # URL for Wikipedia page\n",
    "\n",
    "headers = { \"User-Agent\": \"DASC 690 (mattguilloty@gmail.com)\" } # Set User-Agent\n",
    "\n",
    "response = requests.get(url, headers = headers)                 # Make request for page"
   ]
  },
  {
   "cell_type": "code",
   "execution_count": 5,
   "metadata": {},
   "outputs": [],
   "source": [
    "soup = BeautifulSoup(response.text, 'html.parser') # Parse HTML\n",
    "\n",
    "def extractReferences(soup):\n",
    "    spans = soup.find_all('span', class_ = 'reference-text')                      # Find all of the instances of the References container\n",
    "    texts = [span.get_text() for span in spans]                                   # Get text for each reference\n",
    "    links = [[link.get('href') for link in span.find_all('a')] for span in spans] # Get links for each reference\n",
    "    return texts, links\n",
    "\n",
    "texts, links = extractReferences(soup)"
   ]
  },
  {
   "cell_type": "code",
   "execution_count": 6,
   "metadata": {},
   "outputs": [],
   "source": [
    "df = pd.DataFrame(links)\n",
    "\n",
    "df.insert(0, 'text', texts)\n",
    "\n",
    "df.to_csv('outputs/phase1A.csv')"
   ]
  },
  {
   "cell_type": "code",
   "execution_count": 7,
   "metadata": {},
   "outputs": [],
   "source": [
    "f = open('outputs/phase1A.txt', 'w')\n",
    "\n",
    "for link in links:\n",
    "    for sublink in link:\n",
    "        if 'http' in sublink:\n",
    "            f.write(sublink + '\\n')\n",
    "\n",
    "f.close()"
   ]
  },
  {
   "cell_type": "markdown",
   "metadata": {},
   "source": [
    "### Phase IB: Internet Archive API"
   ]
  },
  {
   "cell_type": "code",
   "execution_count": 13,
   "metadata": {},
   "outputs": [],
   "source": [
    "# Library requirements for this section\n",
    "import requests\n",
    "from bs4 import BeautifulSoup"
   ]
  },
  {
   "cell_type": "code",
   "execution_count": 30,
   "metadata": {},
   "outputs": [],
   "source": [
    "url = 'https://www.youtube.com/'\n",
    "\n",
    "apiURL = f'http://archive.org/wayback/available?url={url}' # API endpoint\n",
    "\n",
    "content = requests.get(apiURL, headers = headers).json() # Make request for archived site"
   ]
  },
  {
   "cell_type": "code",
   "execution_count": 31,
   "metadata": {},
   "outputs": [
    {
     "data": {
      "text/plain": [
       "{'url': 'https://www.youtube.com/',\n",
       " 'archived_snapshots': {'closest': {'status': '200',\n",
       "   'available': True,\n",
       "   'url': 'http://web.archive.org/web/20240626121548/https://www.youtube.com/',\n",
       "   'timestamp': '20240626121548'}}}"
      ]
     },
     "execution_count": 31,
     "metadata": {},
     "output_type": "execute_result"
    }
   ],
   "source": [
    "content"
   ]
  },
  {
   "cell_type": "code",
   "execution_count": 33,
   "metadata": {},
   "outputs": [],
   "source": [
    "if content['archived_snapshots']:                                    # If an archived snapshot exists\n",
    "    closest = content['archived_snapshots']['closest']               # Get the closest/latest snapshot\n",
    "    if closest['available']:\n",
    "        closestURL = closest['url']                                  # Get the URL for the last snapshot\n",
    "        content = requests.get(closestURL, headers = headers)        # Make request\n",
    "        f = open('outputs/phase1B.html', 'w', encoding='utf-8')\n",
    "        f.write(content.text)\n",
    "        f.close()\n",
    "else:\n",
    "    print('No archives available')"
   ]
  },
  {
   "cell_type": "code",
   "execution_count": 35,
   "metadata": {},
   "outputs": [],
   "source": [
    "with open('outputs/phase1B.html', 'r', encoding = 'utf-8') as file:\n",
    "    htmlContent = file.read()\n",
    "\n",
    "soup = BeautifulSoup(htmlContent, 'html.parser')\n",
    "\n",
    "text = soup.get_text()\n",
    "\n",
    "text = text.replace('\\n', '')\n",
    "\n",
    "f = open('outputs/phase1B.txt', 'w', encoding = 'utf-8')\n",
    "f.write(text)\n",
    "f.close()"
   ]
  },
  {
   "cell_type": "markdown",
   "metadata": {},
   "source": [
    "### Phase IC: Google API"
   ]
  },
  {
   "cell_type": "markdown",
   "metadata": {},
   "source": [
    "#### Page scrape (Older implementation)"
   ]
  },
  {
   "cell_type": "code",
   "execution_count": 13,
   "metadata": {},
   "outputs": [],
   "source": [
    "# Library requirements for this section\n",
    "from googlesearch import search"
   ]
  },
  {
   "cell_type": "code",
   "execution_count": 14,
   "metadata": {},
   "outputs": [],
   "source": [
    "results = search('A Guide To Different Types Of Coffee Beans, Roasts & Drinks\". 13 August 2021. Retrieved 16 January 2023', num_results = 10)"
   ]
  },
  {
   "cell_type": "code",
   "execution_count": 15,
   "metadata": {},
   "outputs": [
    {
     "name": "stdout",
     "output_type": "stream",
     "text": [
      "https://www.instacart.com/company/ideas/types-of-coffee/\n",
      "https://www.allrecipes.com/article/types-of-coffee/\n",
      "https://library.sweetmarias.com/using-sight-to-determine-degree-of-roast/\n",
      "https://www.thepioneerwoman.com/food-cooking/a35153729/types-of-coffee/\n",
      "https://www.instructables.com/Choosing-Coffee-Beans/\n",
      "https://library.sweetmarias.com/how-to-roast-your-own-coffee/\n",
      "http://scottjanish.com/guide-to-coffee-beers/\n",
      "https://www.7-eleven.com/blog/food-and-drink/taste-the-difference-the-different-types-of-coffee-beans-and-roasts\n"
     ]
    }
   ],
   "source": [
    "for i in results:\n",
    "    print(i)"
   ]
  },
  {
   "cell_type": "markdown",
   "metadata": {},
   "source": [
    "#### Google Custom Search API (Current implementation)"
   ]
  },
  {
   "cell_type": "code",
   "execution_count": 36,
   "metadata": {},
   "outputs": [],
   "source": [
    "# Library requirements for this section\n",
    "import requests"
   ]
  },
  {
   "cell_type": "code",
   "execution_count": 37,
   "metadata": {},
   "outputs": [],
   "source": [
    "def googleSearch(query, APIkey, CSEid, numResults = 10):\n",
    "    url = \"https://www.googleapis.com/customsearch/v1\"                # API endpoint\n",
    "    params = {\n",
    "        'key': APIkey,\n",
    "        'cx': CSEid,\n",
    "        'q': query,\n",
    "        'num': numResults\n",
    "    }\n",
    "    response = requests.get(url, params = params)                     # Make request to endpoint\n",
    "    searchResults = response.json()\n",
    "    links = [item['link'] for item in searchResults.get('items', [])] # Get links of results\n",
    "    return links"
   ]
  },
  {
   "cell_type": "code",
   "execution_count": 38,
   "metadata": {},
   "outputs": [
    {
     "name": "stdout",
     "output_type": "stream",
     "text": [
      "Query: Cat \n",
      "\n",
      "https://www.cat.com/global-selector.html\n",
      "https://en.wikipedia.org/wiki/Cat\n",
      "https://www.cat.com/en_US.html\n",
      "https://www.caterpillar.com/\n",
      "https://www.catphones.com/\n",
      "http://www.catfootwear.com/en/home\n",
      "https://www.ohchr.org/en/treaty-bodies/cat\n",
      "https://www.facebook.com/YusufCatStevens/\n",
      "https://www.narescue.com/combat-application-tourniquet-c-a-t.html\n",
      "https://www.vetstreet.com/cats\n"
     ]
    }
   ],
   "source": [
    "APIkey = input(\"Enter API Key: \")\n",
    "CSEid = input(\"Enter CSE ID: \")\n",
    "query = \"Cat\"\n",
    "links = googleSearch(query, APIkey, CSEid)\n",
    "\n",
    "print('Query:', query, '\\n')\n",
    "for i, link in enumerate(links):\n",
    "    print(link)"
   ]
  },
  {
   "cell_type": "markdown",
   "metadata": {},
   "source": [
    "### Phase II"
   ]
  },
  {
   "cell_type": "code",
   "execution_count": 8,
   "metadata": {},
   "outputs": [],
   "source": [
    "import time\n",
    "import requests\n",
    "import pandas as pd"
   ]
  },
  {
   "cell_type": "code",
   "execution_count": 33,
   "metadata": {},
   "outputs": [],
   "source": [
    "statusCodes = {\n",
    "    100: \"Continue\", 101: \"Switching Protocols\", 102: \"Processing\",\n",
    "    200: \"OK\", 201: \"Created\", 202: \"Accepted\", 203: \"Non-Authoritative Information\", 204: \"No Content\", 205: \"Reset Content\", 206: \"Partial Content\", 207: \"Multi-Status\", 208: \"Already Reported\", 226: \"IM Used\",\n",
    "    300: \"Multiple Choices\", 301: \"Moved Permanently\", 302: \"Found\", 303: \"See Other\", 304: \"Not Modified\", 305: \"Use Proxy\", 307: \"Temporary Redirect\", 308: \"Permanent Redirect\", 400: \"Bad Request\",\n",
    "    401: \"Unauthorized\", 402: \"Payment Required\", 403: \"Forbidden\", 404: \"Not Found\", 405: \"Method Not Allowed\", 406: \"Not Acceptable\", 407: \"Proxy Authentication Required\", 408: \"Request Timeout\", 409: \"Conflict\",\n",
    "    410: \"Gone\", 411: \"Length Required\", 412: \"Precondition Failed\", 413: \"Payload Too Large\", 414: \"URI Too Long\", 415: \"Unsupported Media Type\", 416: \"Range Not Satisfiable\", 417: \"Expectation Failed\", 418: \"I'm a teapot\", 421: \"Misdirected Request\", \n",
    "    422: \"Unprocessable Entity\", 423: \"Locked\", 424: \"Failed Dependency\", 425: \"Too Early\", 426: \"Upgrade Required\", 428: \"Precondition Required\", 429: \"Too Many Requests\", 431: \"Request Header Fields Too Large\", 451: \"Unavailable For Legal Reasons\", \n",
    "    500: \"Internal Server Error\", 501: \"Not Implemented\", 502: \"Bad Gateway\", 503: \"Service Unavailable\", 504: \"Gateway Timeout\", 505: \"HTTP Version Not Supported\", 506: \"Variant Also Negotiates\", 507: \"Insufficient Storage\", 508: \"Loop Detected\", 510: \"Not Extended\", 511: \"Network Authentication Required\"\n",
    "}"
   ]
  },
  {
   "cell_type": "code",
   "execution_count": 10,
   "metadata": {},
   "outputs": [],
   "source": [
    "df = pd.read_csv('outputs/phase1A.csv')"
   ]
  },
  {
   "cell_type": "code",
   "execution_count": 11,
   "metadata": {},
   "outputs": [],
   "source": [
    "referenceText = []\n",
    "urls = []\n",
    "\n",
    "for index, row in df.iterrows():\n",
    "    for i in range(len(row)):\n",
    "       if 'http' in str(row.iloc[i]):\n",
    "            referenceText.append(row.iloc[1])\n",
    "            urls.append(row.iloc[i])"
   ]
  },
  {
   "cell_type": "code",
   "execution_count": 12,
   "metadata": {},
   "outputs": [
    {
     "name": "stdout",
     "output_type": "stream",
     "text": [
      "URL:https://web.archive.org/web/20190121064857/https://paleobiodb.org/classic/checkTaxonInfo?taxon_no=352611&is_real_user=1 Status Code:200 - OK\n",
      "\n",
      "URL:https://paleobiodb.org/classic/checkTaxonInfo?taxon_no=352611&is_real_user=1 Status Code:200 - OK\n",
      "\n",
      "URL:https://doi.org/10.1242%2Fjeb.01267 Status Code:403 - Forbidden\n",
      "\n",
      "URL:https://doi.org/10.1242%2Fjeb.01267 Status Code:403 - Forbidden\n",
      "\n",
      "URL:https://pubmed.ncbi.nlm.nih.gov/15498947 Status Code:200 - OK\n",
      "\n",
      "URL:http://jeb.biologists.org/content/166/1/267.full.pdf Status Code:403 - Forbidden\n",
      "\n",
      "URL:https://doi.org/10.1242%2Fjeb.166.1.267 Status Code:403 - Forbidden\n",
      "\n",
      "URL:https://www.worldcat.org/issn/0022-0949 Status Code:200 - OK\n",
      "\n",
      "URL:https://web.archive.org/web/20150904044712/http://jeb.biologists.org/content/166/1/267.full.pdf Status Code:200 - OK\n",
      "\n",
      "URL:https://www.ncbi.nlm.nih.gov/pmc/articles/PMC5087677 Status Code:200 - OK\n",
      "\n",
      "URL:https://doi.org/10.1242%2Fbio.019919 Status Code:403 - Forbidden\n",
      "\n",
      "URL:https://www.worldcat.org/issn/2046-6390 Status Code:200 - OK\n",
      "\n",
      "URL:https://www.ncbi.nlm.nih.gov/pmc/articles/PMC5087677 Status Code:200 - OK\n",
      "\n",
      "URL:https://pubmed.ncbi.nlm.nih.gov/27543056 Status Code:200 - OK\n",
      "\n",
      "URL:https://www.iucnredlist.org/species/21858/170082633 Status Code:200 - OK\n",
      "\n",
      "URL:https://web.archive.org/web/20150524153815/https://www.ahdictionary.com/word/search.html?q=tuna&submit.x=0&submit.y=0 Status Code:200 - OK\n",
      "\n",
      "URL:https://www.ahdictionary.com/word/search.html?q=tuna&submit.x=0&submit.y=0 Status Code:200 - OK\n",
      "\n",
      "URL:https://www.perseus.tufts.edu/hopper/text?doc=Perseus:text:1999.04.0059:entry=thunnus Status Code:200 - OK\n",
      "\n",
      "URL:https://www.perseus.tufts.edu/hopper/text?doc=Perseus:text:1999.04.0057:entry=qu/nnos Status Code:200 - OK\n",
      "\n",
      "URL:https://www.perseus.tufts.edu/hopper/text?doc=Perseus:text:1999.04.0057:entry=qu/nw Status Code:200 - OK\n",
      "\n",
      "URL:https://books.google.com/books?id=-0cWAQAAIAAJ Status Code:200 - OK\n",
      "\n",
      "URL: http://cat.inist.fr/?aModele=afficheN&cpsidt=18108521 Status Code: Error\n",
      "\n",
      "URL:https://ui.adsabs.harvard.edu/abs/2006MEPS..319..225T Status Code:200 - OK\n",
      "\n",
      "URL:https://doi.org/10.3354%2Fmeps319225 Status Code:200 - OK\n",
      "\n",
      "URL:https://www.sciencedirect.com/topics/agricultural-and-biological-sciences/thunnus Status Code:403 - Forbidden\n",
      "\n",
      "URL:http://www.fishbase.org/summary/SpeciesSummary.php?genusname=Thunnus&speciesname=alalunga Status Code:200 - OK\n",
      "\n",
      "URL:https://www.iucnredlist.org/species/21856/46911332 Status Code:200 - OK\n",
      "\n",
      "URL:http://www.fishbase.org/summary/SpeciesSummary.php?genusname=Thunnus&speciesname=maccoyii Status Code:200 - OK\n",
      "\n",
      "URL:http://www.fishbase.org/summary/SpeciesSummary.php?genusname=Thunnus&speciesname=obesus Status Code:200 - OK\n",
      "\n",
      "URL:https://www.iucnredlist.org/species/21859/46912402 Status Code:200 - OK\n",
      "\n",
      "URL:http://www.fishbase.org/summary/SpeciesSummary.php?genusname=Thunnus&speciesname=orientalis Status Code:200 - OK\n",
      "\n",
      "URL:https://www.iucnredlist.org/species/170341/170087840 Status Code:200 - OK\n",
      "\n",
      "URL:http://www.fishbase.org/summary/SpeciesSummary.php?genusname=Thunnus&speciesname=thynnus Status Code:200 - OK\n",
      "\n",
      "URL:https://www.iucnredlist.org/species/21860/46913402 Status Code:200 - OK\n",
      "\n",
      "URL:http://www.fishbase.org/summary/SpeciesSummary.php?genusname=Thunnus&speciesname=atlanticus Status Code:200 - OK\n",
      "\n",
      "URL:https://www.iucnredlist.org/details/155276/4764002 Status Code:200 - OK\n",
      "\n",
      "URL:http://www.fishbase.org/summary/SpeciesSummary.php?genusname=Thunnus&speciesname=tonggol Status Code:200 - OK\n",
      "\n",
      "URL:https://www.iucnredlist.org/details/170351/6763691 Status Code:200 - OK\n",
      "\n",
      "URL:http://www.fishbase.org/summary/SpeciesSummary.php?genusname=Thunnus&speciesname=albacares Status Code:200 - OK\n",
      "\n",
      "URL:https://www.iucnredlist.org/details/21857/46624561 Status Code:200 - OK\n",
      "\n",
      "URL:http://www.fishbase.org/summary/SpeciesSummary.php?genusname=Allothunnus&speciesname=fallai Status Code:200 - OK\n",
      "\n",
      "URL:https://www.iucnredlist.org/species/170349/6761139 Status Code:200 - OK\n",
      "\n",
      "URL:https://doi.org/10.2305%2FIUCN.UK.2011-2.RLTS.T170349A6761139.en Status Code:200 - OK\n",
      "\n",
      "URL:http://www.fishbase.org/summary/SpeciesSummary.php?genusname=Auxis&speciesname=rochei Status Code:200 - OK\n",
      "\n",
      "URL:https://www.iucnredlist.org/species/170355/6765188 Status Code:200 - OK\n",
      "\n",
      "URL:https://doi.org/10.2305%2FIUCN.UK.2011-2.RLTS.T170355A6765188.en Status Code:200 - OK\n",
      "\n",
      "URL:http://www.fishbase.org/summary/SpeciesSummary.php?genusname=Auxis&speciesname=thazard Status Code:200 - OK\n",
      "\n",
      "URL:https://www.iucnredlist.org/species/170344/6757270 Status Code:200 - OK\n",
      "\n",
      "URL:https://doi.org/10.2305%2FIUCN.UK.2011-2.RLTS.T170344A6757270.en Status Code:200 - OK\n",
      "\n",
      "URL:http://www.fishbase.org/summary/SpeciesSummary.php?genusname=Euthynnus&speciesname=affinis Status Code:200 - OK\n",
      "\n",
      "URL:https://www.iucnredlist.org/species/170336/6753804 Status Code:200 - OK\n",
      "\n",
      "URL:https://doi.org/10.2305%2FIUCN.UK.2011-2.RLTS.T170336A6753804.en Status Code:200 - OK\n",
      "\n",
      "URL:http://www.fishbase.org/summary/SpeciesSummary.php?genusname=Euthynnus&speciesname=alletteratus Status Code:200 - OK\n",
      "\n",
      "URL:https://www.iucnredlist.org/species/170345/6759394 Status Code:200 - OK\n",
      "\n",
      "URL:https://doi.org/10.2305%2FIUCN.UK.2011-2.RLTS.T170345A6759394.en Status Code:200 - OK\n",
      "\n",
      "URL:http://www.fishbase.org/summary/SpeciesSummary.php?genusname=Euthynnus&speciesname=lineatus Status Code:200 - OK\n",
      "\n",
      "URL:https://www.iucnredlist.org/species/170320/6747016 Status Code:200 - OK\n",
      "\n",
      "URL:https://doi.org/10.2305%2FIUCN.UK.2011-2.RLTS.T170320A6747016.en Status Code:200 - OK\n",
      "\n",
      "URL:http://www.fishbase.org/summary/SpeciesSummary.php?genusname=Katsuwonus&speciesname=pelamis Status Code:200 - OK\n",
      "\n",
      "URL:https://www.iucnredlist.org/species/170310/46644566 Status Code:200 - OK\n",
      "\n",
      "URL:https://doi.org/10.2305%2FIUCN.UK.2021-2.RLTS.T170310A46644566.en Status Code:200 - OK\n",
      "\n",
      "URL:https://www.fao.org/figis/pdf/fishery/topic/16082/en?title=FAO%20Fisheries%20%26%20Aquaculture%20-%20Biological%20characteristics%20of%20tuna Status Code:200 - OK\n",
      "\n",
      "URL:https://web.archive.org/web/20120712070954/http://seagrant.gso.uri.edu/factsheets/tuna.html Status Code:200 - OK\n",
      "\n",
      "URL:http://seagrant.gso.uri.edu/factsheets/tuna.html Status Code:404 - Not Found\n",
      "\n",
      "URL:https://fishionary.fisheries.org/countershading/ Status Code:403 - Forbidden\n",
      "\n",
      "URL:https://web.archive.org/web/20100327021649/http://www.iss-foundation.org/files/b45a4eb2-f9d7-4ed6-87a1-2efe2519baf6/ISSF_A-1%20Introduction.pdf Status Code:200 - OK\n",
      "\n",
      "URL:http://www.iss-foundation.org/files/b45a4eb2-f9d7-4ed6-87a1-2efe2519baf6/ISSF_A-1%20Introduction.pdf Status Code:404 - Not Found\n",
      "\n",
      "URL:https://web.archive.org/web/20130207000108/http://216.172.180.32/~pier/userdocs/images/files/scientific_publications/Sepulveda%20et%20al.%202008%20.pdf Status Code:200 - OK\n",
      "\n",
      "URL:https://doi.org/10.1111%2Fj.1095-8649.2008.01931.x Status Code:403 - Forbidden\n",
      "\n",
      "URL: http://216.172.180.32/~pier/userdocs/images/files/scientific_publications/Sepulveda%20et%20al.%202008%20.pdf Status Code: Error\n",
      "\n",
      "URL:https://doi.org/10.1152%2Fajpregu.00392.2003 Status Code:403 - Forbidden\n",
      "\n",
      "URL:https://pubmed.ncbi.nlm.nih.gov/14604842 Status Code:200 - OK\n",
      "\n",
      "URL:http://jeb.biologists.org/content/109/1/21.full.pdf Status Code:403 - Forbidden\n",
      "\n",
      "URL:https://doi.org/10.1242%2Fjeb.109.1.21 Status Code:403 - Forbidden\n",
      "\n",
      "URL:https://web.archive.org/web/20150904044712/http://jeb.biologists.org/content/109/1/21.full.pdf Status Code:200 - OK\n",
      "\n",
      "URL:https://www.ncbi.nlm.nih.gov/pmc/articles/PMC2607394 Status Code:200 - OK\n",
      "\n",
      "URL:https://doi.org/10.1098%2Frsif.2007.1073 Status Code:403 - Forbidden\n",
      "\n",
      "URL:https://www.ncbi.nlm.nih.gov/pmc/articles/PMC2607394 Status Code:200 - OK\n",
      "\n",
      "URL:https://pubmed.ncbi.nlm.nih.gov/17580289 Status Code:200 - OK\n",
      "\n",
      "URL:http://www.abc.net.au/news/2006-10-16/bluefin-tuna-plundering-catches-up-with-japan/1286956 Status Code:200 - OK\n",
      "\n",
      "URL: https://www.washingtonpost.com/wp-dyn/content/article/2009/11/28/AR2009112801066.html Status Code: Error\n",
      "\n",
      "URL:https://www.theguardian.com/environment/2007/jan/22/japan.conservationandendangeredspecies Status Code:200 - OK\n",
      "\n",
      "URL:http://www.japantimes.co.jp/life/2011/01/09/life/are-japans-fish-lovers-eating-tuna-to-extinction/ Status Code:404 - Not Found\n",
      "\n",
      "URL:https://www.thestar.com/business/2014/01/05/price_of_tuna_nosedives_at_famous_tokyo_auction_despite_dwindling_stocks.html Status Code:200 - OK\n",
      "\n",
      "URL:http://www.nbcnews.com/id/40921151 Status Code:200 - OK\n",
      "\n",
      "URL:http://news.bbc.co.uk/2/hi/asia-pacific/8440758.stm Status Code:200 - OK\n",
      "\n",
      "URL:http://www.nbcnews.com/id/45882262 Status Code:200 - OK\n",
      "\n",
      "URL:https://www.usatoday.com/story/news/world/2013/01/04/bluefin-tuna-tokyo-sushi/1810557// Status Code:200 - OK\n",
      "\n",
      "URL:https://www.reuters.com/article/us-tuna-auction-idUSKCN1OZ056 Status Code:401 - Unauthorized\n",
      "\n",
      "URL:https://news.yahoo.com/blogs/sideshow/man-catches-881-pound-tuna-seized-feds-194650751.html Status Code:200 - OK\n",
      "\n",
      "URL:https://web.archive.org/web/20100107101138/http://archive.rubicon-foundation.org/6006 Status Code:200 - OK\n",
      "\n",
      "URL:https://www.worldcat.org/issn/0813-1988 Status Code:200 - OK\n",
      "\n",
      "URL:https://www.worldcat.org/oclc/16986801 Status Code:200 - OK\n",
      "\n",
      "URL:http://www.abc.net.au/news/2005-06-28/nauru-defends-whaling-vote/2046680 Status Code:200 - OK\n",
      "\n",
      "URL:https://web.archive.org/web/20121101065208/http://wcpfc.int/system/files/documents/meetings/regular-sessions-commission/eighth-regular-session/delegation-proposals-and-paper/WCPFC8-2011-DP-15B-%28Rev-2%29-Australia-Proposals-Address-Impact-Purse-Seine-Fishing-Activity-Cetaceans.pdf Status Code:200 - OK\n",
      "\n",
      "URL:http://wcpfc.int/system/files/documents/meetings/regular-sessions-commission/eighth-regular-session/delegation-proposals-and-paper/WCPFC8-2011-DP-15B-%28Rev-2%29-Australia-Proposals-Address-Impact-Purse-Seine-Fishing-Activity-Cetaceans.pdf Status Code:404 - Not Found\n",
      "\n",
      "URL:https://web.archive.org/web/20100524134557/http://journalism.berkeley.edu/projects/border/ensenada.html Status Code:200 - OK\n",
      "\n",
      "URL:http://journalism.berkeley.edu/projects/border/ensenada.html Status Code:404 - Not Found\n",
      "\n",
      "URL:https://web.archive.org/web/20130927135421/http://www.wdcs-na.org/text/story_details.php?select=308 Status Code:200 - OK\n",
      "\n",
      "URL: http://www.wdcs-na.org/text/story_details.php?select=308 Status Code: Error\n",
      "\n",
      "URL:http://southernfriedscientist.wordpress.com/2009/02/16/the-ecological-disaster-that-is-dolphin-safe-tuna/ Status Code:200 - OK\n",
      "\n",
      "URL:http://phys.org/news175693106.html Status Code:200 - OK\n",
      "\n",
      "URL:http://www.livescience.com/animals/080317-sl-tuna-farming.html Status Code:200 - OK\n",
      "\n",
      "URL:http://www.taipeitimes.com/News/editorials/archives/2006/09/30/2003329854 Status Code:200 - OK\n",
      "\n",
      "URL:http://www.flku.jp/english/aquaculture/index.html Status Code:200 - OK\n",
      "\n",
      "URL:http://www.sfgate.com/cgi-bin/article.cgi?f=/c/a/2008/05/21/FDI910LR9P.DTL&type=printable Status Code:403 - Forbidden\n",
      "\n",
      "URL:http://nymag.com/restaurants/features/46633/ Status Code:200 - OK\n",
      "\n",
      "URL:http://www.fnarena.com/index2.cfm?type=dsp_newsitem&n=4213142B-1871-E587-E13DAA02FD0A4316 Status Code:200 - OK\n",
      "\n",
      "URL:https://web.archive.org/web/20121113102602/http://www.abc.net.au/cgi-bin/common/printfriendly.pl?http%3A%2F%2Fwww.abc.net.au%2Fstateline%2Fsa%2Fcontent%2F2005%2Fs1509579.htm Status Code:200 - OK\n",
      "\n",
      "URL:http://www.abc.net.au/cgi-bin/common/printfriendly.pl?http://www.abc.net.au/stateline/sa/content/2005/s1509579.htm Status Code:404 - Not Found\n",
      "\n",
      "URL: https://archive.today/20121202225644/http://www.adelaidenow.com.au/business/sa-business-journal/clean-seas-signs-tuna-research-deal/story-e6fredel-1111117560776 Status Code: Error\n",
      "\n",
      "URL:http://www.news.com.au/adelaidenow/story/0,22606,24389186-913,00.html Status Code:429 - Too Many Requests\n",
      "\n",
      "URL: https://web.archive.org/web/20091115062251/http://www.time.com/time/specials/packages/article/0,28804,1934027_1934003_1933946,00.html Status Code: Error\n",
      "\n",
      "URL:http://www.time.com/time/specials/packages/article/0,28804,1934027_1934003_1933946,00.html Status Code:404 - Not Found\n",
      "\n",
      "URL:https://web.archive.org/web/20130403110610/http://www.thinkingaustralia.com/news/brief_view.asp?id=1525 Status Code:200 - OK\n",
      "\n",
      "URL:http://www.thinkingaustralia.com/news/brief_view.asp?id=1525 Status Code:404 - Not Found\n",
      "\n",
      "URL: https://web.archive.org/web/20190131100056/https://www.independent.co.uk/life-style/food-and-drink/features/how-tuna-conquered-the-world-1700127.html Status Code: Error\n",
      "\n",
      "URL:https://www.independent.co.uk/life-style/food-and-drink/features/how-tuna-conquered-the-world-1700127.html Status Code:200 - OK\n",
      "\n",
      "URL:https://books.google.com/books?id=Xr6hTgLRoLIC&pg=PA328 Status Code:200 - OK\n",
      "\n",
      "URL:http://www.choice.com.au/viewArticle.aspx?id=104101&catId=100406&tid=100008&p=2&title=Test:+Canned+tuna+(archived) Status Code:200 - OK\n",
      "\n",
      "URL:https://web.archive.org/web/20080801143345/http://www.choice.com.au/viewArticle.aspx?id=104101&catId=100406&tid=100008&p=2&title=Test%3A+Canned+tuna+%28archived%29 Status Code:200 - OK\n",
      "\n",
      "URL:https://timesmachine.nytimes.com/timesmachine/1951/03/01/82093669.html?pageNumber=30 Status Code:200 - OK\n",
      "\n",
      "URL:http://www.accessdata.fda.gov/scripts/cdrh/cfdocs/cfcfr/CFRSearch.cfm?fr=161.190 Status Code:200 - OK\n",
      "\n",
      "URL:https://web.archive.org/web/20130812124832/http://www.dol.gov/whd/as/sec3.htm Status Code:200 - OK\n",
      "\n",
      "URL:http://www.dol.gov/whd/as/sec3.htm Status Code:404 - Not Found\n",
      "\n",
      "URL:https://web.archive.org/web/20210514215614/https://www.wine4food.com/food/name-that-tuna-the-little-known-sexy-varieties-that-are-vastly-superior-to-the-supermarket-cans/ Status Code:200 - OK\n",
      "\n",
      "URL:https://www.wine4food.com/food/name-that-tuna-the-little-known-sexy-varieties-that-are-vastly-superior-to-the-supermarket-cans/ Status Code:200 - OK\n",
      "\n",
      "URL:https://web.archive.org/web/20210514214210/https://www.splendidtable.org/story/2010/11/18/luxury-canned-tuna Status Code:200 - OK\n",
      "\n",
      "URL:https://www.splendidtable.org/story/2010/11/18/luxury-canned-tuna Status Code:200 - OK\n",
      "\n",
      "URL:http://idiotsguides.com Status Code:200 - OK\n",
      "\n",
      "URL:https://web.archive.org/web/20170520055030/http://www.sushiencyclopedia.com/sushi_menu.html Status Code:200 - OK\n",
      "\n",
      "URL:http://www.sushiencyclopedia.com/sushi_menu.html Status Code:410 - Gone\n",
      "\n",
      "URL:https://www.fda.gov/food/nutrition-facts-label/daily-value-nutrition-and-supplement-facts-labels Status Code:200 - OK\n",
      "\n",
      "URL: https://web.archive.org/web/20240327175201/https://www.fda.gov/food/nutrition-facts-label/daily-value-nutrition-and-supplement-facts-labels Status Code: Error\n",
      "\n",
      "URL:http://www.ncbi.nlm.nih.gov/books/NBK538102/ Status Code:200 - OK\n",
      "\n",
      "URL:https://pubmed.ncbi.nlm.nih.gov/30844154 Status Code:200 - OK\n",
      "\n",
      "URL: https://web.archive.org/web/20240509063633/https://www.ncbi.nlm.nih.gov/books/NBK538102/ Status Code: Error\n",
      "\n",
      "URL: https://web.archive.org/web/20091126023316/http://www.chicagotribune.com/features/health/chi-0512130114dec13,0,4864620,full.story Status Code: Error\n",
      "\n",
      "URL:http://www.chicagotribune.com/features/health/chi-0512130114dec13,0,4864620,full.story Status Code:404 - Not Found\n",
      "\n",
      "URL:https://doi.org/10.1016%2Fj.foodchem.2008.04.041 Status Code:200 - OK\n",
      "\n",
      "URL: https://web.archive.org/web/20180821062638/https://pdfs.semanticscholar.org/aa1b/e647c6109fe46c005c6797f6adb28b562bfc.pdf Status Code: Error\n",
      "\n",
      "URL:https://api.semanticscholar.org/CorpusID:41523999 Status Code:202 - Accepted\n",
      "\n",
      "URL:https://pdfs.semanticscholar.org/aa1b/e647c6109fe46c005c6797f6adb28b562bfc.pdf Status Code:202 - Accepted\n",
      "\n",
      "URL:http://aquaticcommons.org/18382/1/FT19.1_059.pdf Status Code:200 - OK\n",
      "\n",
      "URL: https://web.archive.org/web/20180821093834/http://aquaticcommons.org/18382/1/FT19.1_059.pdf Status Code: Error\n",
      "\n",
      "URL: https://web.archive.org/web/20070519060018/http://www.cfsan.fda.gov/~dms/admehg3.html Status Code: Error\n",
      "\n",
      "URL: http://www.cfsan.fda.gov/~dms/admehg3.html Status Code: Error\n",
      "\n",
      "URL:http://www.nrdc.org/health/effects/mercury/tuna.asp Status Code:200 - OK\n",
      "\n",
      "URL:http://articles.chicagotribune.com/2005-12-31/news/0512310211_1_light-tuna-tuna-foundation-low-mercury Status Code:404 - Not Found\n",
      "\n",
      "URL: https://web.archive.org/web/20070410020238/http://www.consumerreports.org/cro/food/tuna-safety/overview/0607_tuna_ov.htm Status Code: Error\n",
      "\n",
      "URL:http://www.consumerreports.org/cro/food/tuna-safety/overview/0607_tuna_ov.htm Status Code:403 - Forbidden\n",
      "\n",
      "URL:https://scholar.google.com/scholar_case?hl=en&as_sdt=40000006&case=14761508866702574858&scilh=0 Status Code:200 - OK\n",
      "\n",
      "URL:https://www.nytimes.com/2008/01/23/dining/23sushi.html?ref=nyregion Status Code:200 - OK\n",
      "\n",
      "URL:http://www.theage.com.au/news/World/WWF-demands-tuna-monitoring-system/2007/01/19/1169095972203.html Status Code:200 - OK\n",
      "\n",
      "URL: https://web.archive.org/web/20080323185155/http://oceans.greenpeace.org/en/documents-reports/rfmo-kobe Status Code: Error\n",
      "\n",
      "URL: http://oceans.greenpeace.org/en/documents-reports/rfmo-kobe Status Code: Error\n",
      "\n",
      "URL: https://web.archive.org/web/20080111070803/http://www.abc.net.au/news/newsitems/200701/s1834563.htm Status Code: Error\n",
      "\n",
      "URL:http://www.abc.net.au/news/newsitems/200701/s1834563.htm Status Code:404 - Not Found\n",
      "\n",
      "URL: https://web.archive.org/web/20100820034707/http://www.greenpeace.org/international/seafood/red-list-of-species Status Code: Error\n",
      "\n",
      "URL:http://www.greenpeace.org/international/seafood/red-list-of-species Status Code:404 - Not Found\n",
      "\n",
      "URL:https://www.nytimes.com/2010/06/27/magazine/27Tuna-t.html Status Code:200 - OK\n",
      "\n",
      "URL:http://news.bbc.co.uk/2/hi/science/nature/7040011.stm Status Code:200 - OK\n",
      "\n",
      "URL:http://search.japantimes.co.jp/cgi-bin/nn20100831i1.html Status Code:404 - Not Found\n",
      "\n",
      "URL:https://web.archive.org/web/20100327022746/http://www.iss-foundation.org/files/e71afd66-086a-41c7-a71c-c2935687dcef/ISSF_A-2%20Summary%20%283%29.pdf Status Code:200 - OK\n",
      "\n",
      "URL:http://www.iss-foundation.org/files/e71afd66-086a-41c7-a71c-c2935687dcef/ISSF_A-2%20Summary%20(3).pdf Status Code:404 - Not Found\n",
      "\n",
      "URL:https://web.archive.org/web/20131115074636/http://www.cookislandsnews.com/2012/January/Wed18/environment.htm Status Code:200 - OK\n",
      "\n",
      "URL: http://www3.cookislandsnews.com/2012/January/Wed18/environment.htm Status Code: Error\n",
      "\n",
      "URL:https://hal.archives-ouvertes.fr/hal-01259414/file/Roxy_2016_A_reduction_in.pdf Status Code:200 - OK\n",
      "\n",
      "URL:https://ui.adsabs.harvard.edu/abs/2016GeoRL..43..826R Status Code:200 - OK\n",
      "\n",
      "URL:https://doi.org/10.1002%2F2015GL066979 Status Code:403 - Forbidden\n",
      "\n",
      "URL:https://www.worldcat.org/issn/1944-8007 Status Code:200 - OK\n",
      "\n",
      "URL:https://web.archive.org/web/20190103110538/https://hal.archives-ouvertes.fr/hal-01259414/file/Roxy_2016_A_reduction_in.pdf Status Code:200 - OK\n",
      "\n"
     ]
    }
   ],
   "source": [
    "headers = { \"User-Agent\": \"DASC 690 (mattguilloty@gmail.com)\" } # Set User-Agent\n",
    "\n",
    "def get_status_code(url):\n",
    "    try:\n",
    "        response = requests.get(url, headers = headers, timeout = 4)\n",
    "        return response.status_code\n",
    "    except requests.exceptions.RequestException as e:\n",
    "        return 'Error'\n",
    "    \n",
    "statuses = []\n",
    "\n",
    "for url in urls:\n",
    "    status = get_status_code(url)\n",
    "    if status != 'Error':\n",
    "        line = 'URL:' + url + ' Status Code:' + str(status) + ' - ' + statusCodes[status] + '\\n'\n",
    "        print(line)\n",
    "    else:\n",
    "        line = 'URL: ' + url + ' Status Code: Error' + '\\n'\n",
    "        print(line)\n",
    "    \n",
    "    statuses.append(status)\n",
    "\n",
    "time.sleep(1)\n",
    "\n",
    "df = pd.DataFrame({\n",
    "    'reference': referenceText,\n",
    "    'URL': urls,\n",
    "    'status': statuses\n",
    "})\n",
    "\n",
    "df.to_csv('outputs/phase2.csv')"
   ]
  },
  {
   "cell_type": "code",
   "execution_count": 23,
   "metadata": {},
   "outputs": [],
   "source": [
    "ignoreCodes = ['200', '201', '202', '203', '206', '403', '429']\n",
    "\n",
    "df = pd.read_csv('outputs/phase2.csv')\n",
    "\n",
    "df = df[~df['status'].isin(ignoreCodes)]"
   ]
  },
  {
   "cell_type": "code",
   "execution_count": 26,
   "metadata": {},
   "outputs": [
    {
     "name": "stdout",
     "output_type": "stream",
     "text": [
      "Unique HTTP status errors: ['Error' '404' '401' '410']\n"
     ]
    }
   ],
   "source": [
    "print('Unique HTTP status errors:', df['status'].unique())"
   ]
  },
  {
   "cell_type": "code",
   "execution_count": 31,
   "metadata": {},
   "outputs": [
    {
     "data": {
      "text/html": [
       "<div>\n",
       "<style scoped>\n",
       "    .dataframe tbody tr th:only-of-type {\n",
       "        vertical-align: middle;\n",
       "    }\n",
       "\n",
       "    .dataframe tbody tr th {\n",
       "        vertical-align: top;\n",
       "    }\n",
       "\n",
       "    .dataframe thead th {\n",
       "        text-align: right;\n",
       "    }\n",
       "</style>\n",
       "<table border=\"1\" class=\"dataframe\">\n",
       "  <thead>\n",
       "    <tr style=\"text-align: right;\">\n",
       "      <th></th>\n",
       "      <th>Unnamed: 0</th>\n",
       "      <th>reference</th>\n",
       "      <th>URL</th>\n",
       "      <th>status</th>\n",
       "    </tr>\n",
       "  </thead>\n",
       "  <tbody>\n",
       "    <tr>\n",
       "      <th>21</th>\n",
       "      <td>21</td>\n",
       "      <td>Tanaka, Y.; Satoh, K.; Iwahashi, M.; Yamada, H...</td>\n",
       "      <td>http://cat.inist.fr/?aModele=afficheN&amp;cpsidt=1...</td>\n",
       "      <td>Error</td>\n",
       "    </tr>\n",
       "    <tr>\n",
       "      <th>63</th>\n",
       "      <td>63</td>\n",
       "      <td>Gibbs, E. \"Fact Sheet: Tuna #P1412\". Rhode Isl...</td>\n",
       "      <td>http://seagrant.gso.uri.edu/factsheets/tuna.html</td>\n",
       "      <td>404</td>\n",
       "    </tr>\n",
       "    <tr>\n",
       "      <th>66</th>\n",
       "      <td>66</td>\n",
       "      <td>\"Status of the World Fisheries for Tuna: Secti...</td>\n",
       "      <td>http://www.iss-foundation.org/files/b45a4eb2-f...</td>\n",
       "      <td>404</td>\n",
       "    </tr>\n",
       "    <tr>\n",
       "      <th>69</th>\n",
       "      <td>69</td>\n",
       "      <td>Sepulveda, C.A.; Dickson, K.A.; Bernal, D.; Gr...</td>\n",
       "      <td>http://216.172.180.32/~pier/userdocs/images/fi...</td>\n",
       "      <td>Error</td>\n",
       "    </tr>\n",
       "    <tr>\n",
       "      <th>80</th>\n",
       "      <td>80</td>\n",
       "      <td>Eilperin, Juliet (29 November 2009). \"Global a...</td>\n",
       "      <td>https://www.washingtonpost.com/wp-dyn/content/...</td>\n",
       "      <td>Error</td>\n",
       "    </tr>\n",
       "  </tbody>\n",
       "</table>\n",
       "</div>"
      ],
      "text/plain": [
       "    Unnamed: 0                                          reference  \\\n",
       "21          21  Tanaka, Y.; Satoh, K.; Iwahashi, M.; Yamada, H...   \n",
       "63          63  Gibbs, E. \"Fact Sheet: Tuna #P1412\". Rhode Isl...   \n",
       "66          66  \"Status of the World Fisheries for Tuna: Secti...   \n",
       "69          69  Sepulveda, C.A.; Dickson, K.A.; Bernal, D.; Gr...   \n",
       "80          80  Eilperin, Juliet (29 November 2009). \"Global a...   \n",
       "\n",
       "                                                  URL status  \n",
       "21  http://cat.inist.fr/?aModele=afficheN&cpsidt=1...  Error  \n",
       "63   http://seagrant.gso.uri.edu/factsheets/tuna.html    404  \n",
       "66  http://www.iss-foundation.org/files/b45a4eb2-f...    404  \n",
       "69  http://216.172.180.32/~pier/userdocs/images/fi...  Error  \n",
       "80  https://www.washingtonpost.com/wp-dyn/content/...  Error  "
      ]
     },
     "execution_count": 31,
     "metadata": {},
     "output_type": "execute_result"
    }
   ],
   "source": [
    "df.head()"
   ]
  }
 ],
 "metadata": {
  "kernelspec": {
   "display_name": "Python 3",
   "language": "python",
   "name": "python3"
  },
  "language_info": {
   "codemirror_mode": {
    "name": "ipython",
    "version": 3
   },
   "file_extension": ".py",
   "mimetype": "text/x-python",
   "name": "python",
   "nbconvert_exporter": "python",
   "pygments_lexer": "ipython3",
   "version": "3.11.9"
  }
 },
 "nbformat": 4,
 "nbformat_minor": 2
}
